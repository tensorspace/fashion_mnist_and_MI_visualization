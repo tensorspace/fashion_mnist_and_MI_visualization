{
 "cells": [
  {
   "cell_type": "markdown",
   "metadata": {},
   "source": [
    "Derived from http://www.sas-programming.com/2017/09/a-vgg-like-cnn-for-fashion-mnist-with.html"
   ]
  },
  {
   "cell_type": "code",
   "execution_count": 1,
   "metadata": {},
   "outputs": [
    {
     "name": "stderr",
     "output_type": "stream",
     "text": [
      "/home/ubuntu/anaconda3/envs/tensorflow_p36/lib/python3.6/site-packages/h5py/__init__.py:36: FutureWarning: Conversion of the second argument of issubdtype from `float` to `np.floating` is deprecated. In future, it will be treated as `np.float64 == np.dtype(float).type`.\n",
      "  from ._conv import register_converters as _register_converters\n",
      "Using TensorFlow backend.\n",
      "/home/ubuntu/anaconda3/envs/tensorflow_p36/lib/python3.6/site-packages/matplotlib/__init__.py:962: UserWarning: Duplicate key in file \"/home/ubuntu/.config/matplotlib/matplotlibrc\", line #2\n",
      "  (fname, cnt))\n",
      "/home/ubuntu/anaconda3/envs/tensorflow_p36/lib/python3.6/site-packages/matplotlib/__init__.py:962: UserWarning: Duplicate key in file \"/home/ubuntu/.config/matplotlib/matplotlibrc\", line #3\n",
      "  (fname, cnt))\n"
     ]
    }
   ],
   "source": [
    "from keras.datasets import fashion_mnist\n",
    "\n",
    "(x_train, y_train), (x_test, y_test) = fashion_mnist.load_data()"
   ]
  },
  {
   "cell_type": "code",
   "execution_count": 2,
   "metadata": {},
   "outputs": [],
   "source": [
    "from keras.models import Sequential\n",
    "from keras.layers.convolutional import Conv2D, MaxPooling2D, AveragePooling2D\n",
    "from keras.layers.advanced_activations import LeakyReLU\n",
    "from keras.layers import Activation, Dropout, Flatten, Dense"
   ]
  },
  {
   "cell_type": "code",
   "execution_count": 3,
   "metadata": {},
   "outputs": [],
   "source": [
    "import keras\n",
    "X_train = x_train.reshape(x_train.shape[0], 28, 28, 1).astype('float32')\n",
    "X_test = x_test.reshape(x_test.shape[0], 28, 28, 1).astype('float32')\n",
    "\n",
    "X_train /= 255\n",
    "X_test /= 255\n",
    "\n",
    "Y_train = y_train\n",
    "Y_test = y_test\n",
    "Y_train2 = keras.utils.to_categorical(Y_train).astype('float32')\n",
    "Y_test2 = keras.utils.to_categorical(Y_test).astype('float32')"
   ]
  },
  {
   "cell_type": "code",
   "execution_count": 4,
   "metadata": {},
   "outputs": [
    {
     "data": {
      "text/plain": [
       "array([9, 0, 0, ..., 3, 0, 5], dtype=uint8)"
      ]
     },
     "execution_count": 4,
     "metadata": {},
     "output_type": "execute_result"
    }
   ],
   "source": [
    "Y_train"
   ]
  },
  {
   "cell_type": "code",
   "execution_count": 5,
   "metadata": {
    "scrolled": true
   },
   "outputs": [
    {
     "name": "stdout",
     "output_type": "stream",
     "text": [
      "_________________________________________________________________\n",
      "Layer (type)                 Output Shape              Param #   \n",
      "=================================================================\n",
      "conv2d_1 (Conv2D)            (None, 28, 28, 32)        320       \n",
      "_________________________________________________________________\n",
      "conv2d_2 (Conv2D)            (None, 28, 28, 64)        18496     \n",
      "_________________________________________________________________\n",
      "max_pooling2d_1 (MaxPooling2 (None, 14, 14, 64)        0         \n",
      "_________________________________________________________________\n",
      "dropout_1 (Dropout)          (None, 14, 14, 64)        0         \n",
      "_________________________________________________________________\n",
      "conv2d_3 (Conv2D)            (None, 14, 14, 128)       73856     \n",
      "_________________________________________________________________\n",
      "conv2d_4 (Conv2D)            (None, 12, 12, 256)       295168    \n",
      "_________________________________________________________________\n",
      "max_pooling2d_2 (MaxPooling2 (None, 4, 4, 256)         0         \n",
      "_________________________________________________________________\n",
      "dropout_2 (Dropout)          (None, 4, 4, 256)         0         \n",
      "_________________________________________________________________\n",
      "flatten_1 (Flatten)          (None, 4096)              0         \n",
      "_________________________________________________________________\n",
      "dense_1 (Dense)              (None, 256)               1048832   \n",
      "_________________________________________________________________\n",
      "leaky_re_lu_1 (LeakyReLU)    (None, 256)               0         \n",
      "_________________________________________________________________\n",
      "dropout_3 (Dropout)          (None, 256)               0         \n",
      "_________________________________________________________________\n",
      "dense_2 (Dense)              (None, 256)               65792     \n",
      "_________________________________________________________________\n",
      "leaky_re_lu_2 (LeakyReLU)    (None, 256)               0         \n",
      "_________________________________________________________________\n",
      "dense_3 (Dense)              (None, 10)                2570      \n",
      "=================================================================\n",
      "Total params: 1,505,034\n",
      "Trainable params: 1,505,034\n",
      "Non-trainable params: 0\n",
      "_________________________________________________________________\n"
     ]
    }
   ],
   "source": [
    "num_classes = len(set(Y_train))\n",
    "model3=Sequential()\n",
    "model3.add(Conv2D(filters=32, kernel_size=(3, 3), padding=\"same\", \n",
    "          input_shape=X_train.shape[1:], activation='relu'))\n",
    "model3.add(Conv2D(filters=64, kernel_size=(3, 3), padding=\"same\", activation='relu'))\n",
    "model3.add(MaxPooling2D(pool_size=(2, 2)))\n",
    "model3.add(Dropout(0.5))\n",
    "model3.add(Conv2D(filters=128, kernel_size=(3, 3), padding=\"same\", activation='relu'))\n",
    "model3.add(Conv2D(filters=256, kernel_size=(3, 3), padding=\"valid\", activation='relu'))\n",
    "model3.add(MaxPooling2D(pool_size=(3, 3)))\n",
    "model3.add(Dropout(0.5))\n",
    "model3.add(Flatten())\n",
    "model3.add(Dense(256))\n",
    "model3.add(LeakyReLU())\n",
    "model3.add(Dropout(0.5))\n",
    "model3.add(Dense(256))\n",
    "model3.add(LeakyReLU())\n",
    "#model2.add(Dropout(0.5))\n",
    "model3.add(Dense(num_classes, activation='softmax'))\n",
    "model3.compile(loss='categorical_crossentropy', optimizer='adam', metrics=['accuracy'])\n",
    "model3.summary()"
   ]
  },
  {
   "cell_type": "code",
   "execution_count": 6,
   "metadata": {},
   "outputs": [
    {
     "name": "stdout",
     "output_type": "stream",
     "text": [
      "Train on 60000 samples, validate on 10000 samples\n",
      "Epoch 1/50\n",
      "60000/60000 [==============================] - 33s 558us/step - loss: 0.5328 - acc: 0.8010 - val_loss: 0.3520 - val_acc: 0.8712\n",
      "Epoch 2/50\n",
      "60000/60000 [==============================] - 28s 467us/step - loss: 0.3326 - acc: 0.8780 - val_loss: 0.2679 - val_acc: 0.9014\n",
      "Epoch 3/50\n",
      "60000/60000 [==============================] - 28s 466us/step - loss: 0.2898 - acc: 0.8939 - val_loss: 0.2555 - val_acc: 0.9030\n",
      "Epoch 4/50\n",
      "60000/60000 [==============================] - 28s 466us/step - loss: 0.2710 - acc: 0.9006 - val_loss: 0.2475 - val_acc: 0.9076\n",
      "Epoch 5/50\n",
      "60000/60000 [==============================] - 28s 467us/step - loss: 0.2536 - acc: 0.9059 - val_loss: 0.2300 - val_acc: 0.9150\n",
      "Epoch 6/50\n",
      "60000/60000 [==============================] - 28s 467us/step - loss: 0.2460 - acc: 0.9095 - val_loss: 0.2270 - val_acc: 0.9156\n",
      "Epoch 7/50\n",
      "60000/60000 [==============================] - 28s 466us/step - loss: 0.2375 - acc: 0.9136 - val_loss: 0.2200 - val_acc: 0.9194\n",
      "Epoch 8/50\n",
      "60000/60000 [==============================] - 28s 466us/step - loss: 0.2283 - acc: 0.9165 - val_loss: 0.2122 - val_acc: 0.9202\n",
      "Epoch 9/50\n",
      "60000/60000 [==============================] - 28s 467us/step - loss: 0.2189 - acc: 0.9185 - val_loss: 0.2143 - val_acc: 0.9210\n",
      "Epoch 10/50\n",
      "60000/60000 [==============================] - 28s 467us/step - loss: 0.2190 - acc: 0.9186 - val_loss: 0.2163 - val_acc: 0.9208\n",
      "Epoch 11/50\n",
      "60000/60000 [==============================] - 28s 467us/step - loss: 0.2149 - acc: 0.9206 - val_loss: 0.2268 - val_acc: 0.9187\n",
      "Epoch 12/50\n",
      "60000/60000 [==============================] - 28s 468us/step - loss: 0.2078 - acc: 0.9229 - val_loss: 0.1973 - val_acc: 0.9297\n",
      "Epoch 13/50\n",
      "60000/60000 [==============================] - 28s 466us/step - loss: 0.2036 - acc: 0.9243 - val_loss: 0.2015 - val_acc: 0.9272\n",
      "Epoch 14/50\n",
      "60000/60000 [==============================] - 28s 467us/step - loss: 0.2019 - acc: 0.9250 - val_loss: 0.2038 - val_acc: 0.9276\n",
      "Epoch 15/50\n",
      "60000/60000 [==============================] - 28s 467us/step - loss: 0.1983 - acc: 0.9267 - val_loss: 0.2066 - val_acc: 0.9274\n",
      "Epoch 16/50\n",
      "60000/60000 [==============================] - 28s 467us/step - loss: 0.1955 - acc: 0.9278 - val_loss: 0.2018 - val_acc: 0.9273\n",
      "Epoch 17/50\n",
      "60000/60000 [==============================] - 28s 467us/step - loss: 0.1909 - acc: 0.9294 - val_loss: 0.2059 - val_acc: 0.9278\n",
      "Epoch 18/50\n",
      "60000/60000 [==============================] - 28s 467us/step - loss: 0.1913 - acc: 0.9299 - val_loss: 0.1935 - val_acc: 0.9318\n",
      "Epoch 19/50\n",
      "60000/60000 [==============================] - 28s 466us/step - loss: 0.1884 - acc: 0.9306 - val_loss: 0.1981 - val_acc: 0.9310\n",
      "Epoch 20/50\n",
      "60000/60000 [==============================] - 28s 467us/step - loss: 0.1857 - acc: 0.9303 - val_loss: 0.2015 - val_acc: 0.9278\n",
      "Epoch 21/50\n",
      "60000/60000 [==============================] - 28s 466us/step - loss: 0.1837 - acc: 0.9317 - val_loss: 0.2039 - val_acc: 0.9250\n",
      "Epoch 22/50\n",
      "60000/60000 [==============================] - 28s 468us/step - loss: 0.1801 - acc: 0.9328 - val_loss: 0.1996 - val_acc: 0.9317\n",
      "Epoch 23/50\n",
      "60000/60000 [==============================] - 28s 467us/step - loss: 0.1800 - acc: 0.9335 - val_loss: 0.1951 - val_acc: 0.9315\n",
      "Epoch 24/50\n",
      "60000/60000 [==============================] - 28s 466us/step - loss: 0.1762 - acc: 0.9350 - val_loss: 0.1946 - val_acc: 0.9280\n",
      "Epoch 25/50\n",
      "60000/60000 [==============================] - 28s 467us/step - loss: 0.1758 - acc: 0.9349 - val_loss: 0.1956 - val_acc: 0.9315\n",
      "Epoch 26/50\n",
      "60000/60000 [==============================] - 28s 466us/step - loss: 0.1743 - acc: 0.9357 - val_loss: 0.1971 - val_acc: 0.9324\n",
      "Epoch 27/50\n",
      "60000/60000 [==============================] - 28s 467us/step - loss: 0.1737 - acc: 0.9358 - val_loss: 0.1967 - val_acc: 0.9310\n",
      "Epoch 28/50\n",
      "60000/60000 [==============================] - 28s 467us/step - loss: 0.1739 - acc: 0.9352 - val_loss: 0.1991 - val_acc: 0.9286\n",
      "Epoch 29/50\n",
      "60000/60000 [==============================] - 28s 467us/step - loss: 0.1718 - acc: 0.9368 - val_loss: 0.2059 - val_acc: 0.9288\n",
      "Epoch 30/50\n",
      "60000/60000 [==============================] - 28s 466us/step - loss: 0.1689 - acc: 0.9376 - val_loss: 0.1994 - val_acc: 0.9288\n",
      "Epoch 31/50\n",
      "60000/60000 [==============================] - 28s 466us/step - loss: 0.1682 - acc: 0.9379 - val_loss: 0.1902 - val_acc: 0.9348\n",
      "Epoch 32/50\n",
      "60000/60000 [==============================] - 28s 466us/step - loss: 0.1644 - acc: 0.9392 - val_loss: 0.1976 - val_acc: 0.9318\n",
      "Epoch 33/50\n",
      "60000/60000 [==============================] - 28s 467us/step - loss: 0.1647 - acc: 0.9387 - val_loss: 0.1867 - val_acc: 0.9346\n",
      "Epoch 34/50\n",
      "60000/60000 [==============================] - 28s 467us/step - loss: 0.1662 - acc: 0.9392 - val_loss: 0.1879 - val_acc: 0.9377\n",
      "Epoch 35/50\n",
      "60000/60000 [==============================] - 28s 467us/step - loss: 0.1657 - acc: 0.9385 - val_loss: 0.1959 - val_acc: 0.9335\n",
      "Epoch 36/50\n",
      "60000/60000 [==============================] - 28s 467us/step - loss: 0.1610 - acc: 0.9403 - val_loss: 0.1937 - val_acc: 0.9317\n",
      "Epoch 37/50\n",
      "60000/60000 [==============================] - 28s 466us/step - loss: 0.1619 - acc: 0.9402 - val_loss: 0.2009 - val_acc: 0.9324\n",
      "Epoch 38/50\n",
      "60000/60000 [==============================] - 28s 467us/step - loss: 0.1566 - acc: 0.9419 - val_loss: 0.1911 - val_acc: 0.9362\n",
      "Epoch 39/50\n",
      "60000/60000 [==============================] - 28s 466us/step - loss: 0.1584 - acc: 0.9415 - val_loss: 0.1925 - val_acc: 0.9355\n",
      "Epoch 40/50\n",
      "60000/60000 [==============================] - 28s 466us/step - loss: 0.1580 - acc: 0.9406 - val_loss: 0.1965 - val_acc: 0.9350\n",
      "Epoch 41/50\n",
      "60000/60000 [==============================] - 28s 467us/step - loss: 0.1597 - acc: 0.9406 - val_loss: 0.1913 - val_acc: 0.9330\n",
      "Epoch 42/50\n",
      "60000/60000 [==============================] - 28s 467us/step - loss: 0.1557 - acc: 0.9436 - val_loss: 0.1959 - val_acc: 0.9357\n",
      "Epoch 43/50\n",
      "60000/60000 [==============================] - 28s 466us/step - loss: 0.1590 - acc: 0.9423 - val_loss: 0.1985 - val_acc: 0.9320\n",
      "Epoch 44/50\n",
      "60000/60000 [==============================] - 28s 466us/step - loss: 0.1565 - acc: 0.9423 - val_loss: 0.1993 - val_acc: 0.9294\n",
      "Epoch 45/50\n",
      "60000/60000 [==============================] - 28s 466us/step - loss: 0.1546 - acc: 0.9423 - val_loss: 0.1983 - val_acc: 0.9330\n",
      "Epoch 46/50\n",
      "60000/60000 [==============================] - 28s 467us/step - loss: 0.1536 - acc: 0.9433 - val_loss: 0.2020 - val_acc: 0.9342\n",
      "Epoch 47/50\n",
      "60000/60000 [==============================] - 28s 467us/step - loss: 0.1522 - acc: 0.9435 - val_loss: 0.2001 - val_acc: 0.9317\n",
      "Epoch 48/50\n",
      "60000/60000 [==============================] - 28s 467us/step - loss: 0.1514 - acc: 0.9449 - val_loss: 0.2098 - val_acc: 0.9324\n",
      "Epoch 49/50\n",
      "60000/60000 [==============================] - 28s 466us/step - loss: 0.1517 - acc: 0.9440 - val_loss: 0.1961 - val_acc: 0.9319\n",
      "Epoch 50/50\n",
      "60000/60000 [==============================] - 28s 467us/step - loss: 0.1521 - acc: 0.9438 - val_loss: 0.1954 - val_acc: 0.9365\n"
     ]
    }
   ],
   "source": [
    "model3_fit=model3.fit(X_train, Y_train2, validation_data = (X_test, Y_test2), epochs=50, verbose=1, batch_size=64)"
   ]
  },
  {
   "cell_type": "code",
   "execution_count": 7,
   "metadata": {},
   "outputs": [
    {
     "name": "stdout",
     "output_type": "stream",
     "text": [
      "Test loss: 0.19541232106089593\n",
      "Test accuracy: 0.9365\n"
     ]
    }
   ],
   "source": [
    "score = model3.evaluate(X_test, Y_test2, verbose=0)\n",
    "print('Test loss:', score[0])\n",
    "print('Test accuracy:', score[1])"
   ]
  },
  {
   "cell_type": "code",
   "execution_count": null,
   "metadata": {},
   "outputs": [],
   "source": []
  }
 ],
 "metadata": {
  "kernelspec": {
   "display_name": "Environment (conda_tensorflow_p36)",
   "language": "python",
   "name": "conda_tensorflow_p36"
  },
  "language_info": {
   "codemirror_mode": {
    "name": "ipython",
    "version": 3
   },
   "file_extension": ".py",
   "mimetype": "text/x-python",
   "name": "python",
   "nbconvert_exporter": "python",
   "pygments_lexer": "ipython3",
   "version": "3.6.4"
  }
 },
 "nbformat": 4,
 "nbformat_minor": 2
}
